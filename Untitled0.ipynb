{
  "nbformat": 4,
  "nbformat_minor": 0,
  "metadata": {
    "colab": {
      "provenance": [],
      "gpuType": "T4",
      "authorship_tag": "ABX9TyPgxuDwgRRkhVXaEXaW5Ybk",
      "include_colab_link": true
    },
    "kernelspec": {
      "name": "python3",
      "display_name": "Python 3"
    },
    "language_info": {
      "name": "python"
    },
    "accelerator": "GPU"
  },
  "cells": [
    {
      "cell_type": "markdown",
      "metadata": {
        "id": "view-in-github",
        "colab_type": "text"
      },
      "source": [
        "<a href=\"https://colab.research.google.com/github/vazspud1/generative-ai-for-beginners/blob/main/Untitled0.ipynb\" target=\"_parent\"><img src=\"https://colab.research.google.com/assets/colab-badge.svg\" alt=\"Open In Colab\"/></a>"
      ]
    },
    {
      "cell_type": "code",
      "execution_count": null,
      "metadata": {
        "id": "c55G0jms2HSV"
      },
      "outputs": [],
      "source": [
        "!pip install -U openai-whisper"
      ]
    },
    {
      "cell_type": "code",
      "source": [
        "!pip install git+https://github.com/openai/whisper.git"
      ],
      "metadata": {
        "id": "W-usQELC4CBA"
      },
      "execution_count": null,
      "outputs": []
    },
    {
      "cell_type": "code",
      "source": [
        "!whisper microparte1dda.mp3 --model medium"
      ],
      "metadata": {
        "colab": {
          "base_uri": "https://localhost:8080/"
        },
        "id": "IwzSk_8t5UzI",
        "outputId": "f6f5275d-27d1-42d7-e4dd-14070628ef6a"
      },
      "execution_count": 4,
      "outputs": [
        {
          "output_type": "stream",
          "name": "stdout",
          "text": [
            "Detecting language using up to the first 30 seconds. Use `--language` to specify the language\n",
            "Detected language: Spanish\n",
            "[00:00.000 --> 00:05.960]  Ahora el nuevo tema que nos convoca es microeconomía. ¿Qué es la microeconomía?\n",
            "[00:05.960 --> 00:09.880]  La microeconomía es uno de los dos grandes niveles de la economía, el otro\n",
            "[00:09.880 --> 00:14.720]  es la macroeconomía. ¿Qué estudia la microeconomía? Bueno, por un lado\n",
            "[00:14.720 --> 00:18.680]  estudia la toma de decisiones de los agentes económicos, es decir, la toma\n",
            "[00:18.680 --> 00:22.000]  de decisiones de la familia, de los individuos, de las empresas, del\n",
            "[00:22.000 --> 00:28.300]  gobierno y por otro lado cómo se determinan precios y cantidades en los\n",
            "[00:28.300 --> 00:30.900]  mercados.\n",
            "[00:34.780 --> 00:41.620]  La bibliografía que vamos a usar básica para este tema va a ser la siguiente, va\n",
            "[00:41.620 --> 00:45.700]  a ser para la primera parte todos los conceptos de utilidad, utilidad total,\n",
            "[00:45.700 --> 00:50.300]  utilidad marginal, costos, va a ser economía para no economistas y de la\n",
            "[00:50.300 --> 00:54.380]  mano de este libro muy sencillo que ustedes usaron en el liceo vamos a usar\n",
            "[00:54.380 --> 01:01.300]  Samuelson Nordau, que es el libro que les puse capítulos en el EVA\n",
            "[01:01.300 --> 01:06.220]  pero que además ambos dos libros tanto el de economía para no economistas como\n",
            "[01:06.220 --> 01:11.220]  el de Samuelson, ustedes los tienen completos online, solamente basta con\n",
            "[01:11.220 --> 01:13.820]  googlear.\n",
            "[01:16.940 --> 01:21.100]  El plan de clases, ¿cómo vamos a desarrollar nuestro tema? Bueno, vamos a\n",
            "[01:21.140 --> 01:28.900]  tener tres grandes temas, el primero va a ser la teoría, la teoría de la demanda,\n",
            "[01:28.900 --> 01:34.540]  la teoría del consumidor, luego la teoría del productor y luego vamos a ver mercado\n",
            "[01:34.540 --> 01:39.820]  de bienes. Para simplificar el análisis yo dividí la teoría del consumidor en dos\n",
            "[01:39.820 --> 01:48.660]  presentaciones y haré lo pertinente con el productor y el mercado de bienes.\n",
            "[01:48.660 --> 01:53.220]  Vamos a empezar entonces con la teoría del consumidor o demanda primera parte,\n",
            "[01:53.220 --> 01:57.860]  ¿qué es lo que vamos a ver aquí? Bueno, aquí lo que vamos a ver es la elección\n",
            "[01:57.860 --> 02:03.940]  del individuo dado sus gustos y preferencias y su restricción presupuestaria,\n",
            "[02:03.940 --> 02:10.380]  es decir, cómo formamos luego en base a las preferencias y restricción\n",
            "[02:10.380 --> 02:19.020]  presupuestaria los ingresos de los individuos y la curva de demanda.\n",
            "[02:21.580 --> 02:25.740]  Lo primero que tenemos que tener en cuenta para desarrollar nuestro análisis\n",
            "[02:25.740 --> 02:29.100]  es que vamos a trabajar con modelos económicos, ¿qué implican modelos\n",
            "[02:29.100 --> 02:33.020]  económicos? Como yo ya les conté en las primeras clases es una simplificación de\n",
            "[02:33.020 --> 02:37.620]  la realidad, pero además de simplificar la realidad vamos a\n",
            "[02:37.620 --> 02:41.060]  trabajar con el agente económico promedio, es decir, no vamos a trabajar ni\n",
            "[02:41.060 --> 02:45.100]  con Messi ni con Suárez sino que vamos a trabajar con aquel individuo, con aquellas\n",
            "[02:45.100 --> 02:48.740]  empresas que deben de abrir o que deben de ir todos los días a trabajar para\n",
            "[02:48.740 --> 02:53.020]  obtener un ingreso. Vamos a trabajar de la mano de los modelos económicos, el\n",
            "[02:53.020 --> 02:56.460]  supuesto Ceteris Paribus o Ceteris Paribus, que quiere decir permaneciendo\n",
            "[02:56.460 --> 03:01.020]  todo lo demás constante. Y vamos siempre a hacer un análisis en nuestras gráficas\n",
            "[03:01.020 --> 03:06.460]  en base a dos bienes, por ejemplo lechugas y tomates, o cesta de bienes,\n",
            "[03:06.460 --> 03:11.580]  vegetales, carnes, frutas, verduras.\n",
            "[03:11.580 --> 03:15.260]  Entonces nos vamos a adentrar en la elección del consumidor que está\n",
            "[03:15.260 --> 03:20.180]  formada por dos elecciones. Uno, los gustos y preferencias, el mundo de los\n",
            "[03:20.180 --> 03:26.100]  deseos. ¿Qué deseo yo? Bueno, que es las preferencias que yo tengo. A todos nos\n",
            "[03:26.100 --> 03:29.620]  gusta vivir en una casa grande o preferimos un apartamento, nos gusta\n",
            "[03:29.620 --> 03:34.300]  vivir en Montevideo o preferimos vivir en Solimar. ¿Por qué tenemos que elegir\n",
            "[03:34.500 --> 03:38.620]  entre distintos bienes? Porque los bienes son escasos y las necesidades son\n",
            "[03:38.620 --> 03:43.460]  ilimitadas. De la mano de la elección del consumidor en base a sus gustos y\n",
            "[03:43.460 --> 03:48.260]  preferencias tiene una restricción que es el ingreso. A todos nos gustaría\n",
            "[03:48.260 --> 03:52.260]  obtener muchas cosas pero no lo podemos hacer porque tenemos una\n",
            "[03:52.260 --> 03:56.980]  limitación que es el ingreso. Recuerden que estamos hablando de la gente\n",
            "[03:56.980 --> 04:02.060]  económico promedio. Vamos a ver cómo esa elección del\n",
            "[04:02.060 --> 04:05.780]  consumidor en base a sus gustos y preferencias recta presupuestaria nos lo\n",
            "[04:05.780 --> 04:11.740]  vamos a derivar en la curva de la demanda.\n",
            "[04:12.700 --> 04:18.060]  Muy bien. Características de los gustos y preferencias. Brevemente lo tienen muy\n",
            "[04:18.060 --> 04:22.020]  bien en economía para no economista. La completitud que es que un ser racional\n",
            "[04:22.020 --> 04:26.940]  siempre va a tomar una decisión. El consumidor racional siempre elige entre\n",
            "[04:26.940 --> 04:33.500]  dos estas de consumo o le es indiferente pero va a elegir. Elige la canasta A de\n",
            "[04:33.500 --> 04:40.500]  carnes y verduras, elige la canasta B de verduras y frutos o sostiene que le son\n",
            "[04:40.500 --> 04:45.180]  indiferentes cualquiera de las dos pero toma una decisión. Eso es lo que quiere\n",
            "[04:45.180 --> 04:49.940]  decir la completitud. Que todo sea racional toma una decisión y frente a\n",
            "[04:49.940 --> 04:55.740]  distintas opciones elige una o ambas o manifiesta que le son indiferentes. La\n",
            "[04:55.740 --> 04:59.820]  transitividad que significa. La relación entre las preferencias. Si yo\n",
            "[04:59.820 --> 05:05.100]  tengo tres canastas de bienes. Por ejemplo una de vegetales, la canasta A, la B de\n",
            "[05:05.100 --> 05:10.500]  frutos y la 3 de carnes. La transitividad me dice que por ejemplo si yo soy\n",
            "[05:10.500 --> 05:16.420]  vegetariana voy a preferir la canasta A de vegetales a la B de frutos. La B va a\n",
            "[05:16.420 --> 05:21.620]  ser preferible la de frutos a la C que es de carnes. Por tanto la canasta A de\n",
            "[05:21.620 --> 05:25.740]  vegetales es preferible a la C. Que muestra la relación de preferencias de\n",
            "[05:25.740 --> 05:30.180]  un consumidor que es vegetariano. La insaciabilidad que es lo que nos dice que\n",
            "[05:30.180 --> 05:37.420]  claro que todo consumidor lo que quiere es consumir más y más de cada bien.\n",
            "[05:37.420 --> 05:42.980]  Eso es la insaciabilidad. Cuanto más de algo mejor. Cuanto más consumimos de\n",
            "[05:42.980 --> 05:48.860]  algo mejor. Y finalmente la continuidad convexidad que nos dice que entre los\n",
            "[05:48.860 --> 05:53.420]  extremos siempre vamos a elegir el medio. O sea entre elegir una cosa o una\n",
            "[05:53.420 --> 05:57.780]  canasta o un bien u otro preferimos combinación de ambos. Por ejemplo entre\n",
            "[05:57.780 --> 06:02.500]  comer solo vegetales o solo carne preferimos la combinación de vegetales y\n",
            "[06:02.500 --> 06:07.740]  carnes. Luego seguimos con definiciones que van a\n",
            "[06:07.740 --> 06:13.140]  seguirnos a lo largo de toda la microeconomía. Que es el concepto de\n",
            "[06:14.140 --> 06:19.980]  ¿Qué es la utilidad? Bueno la utilidad es la satisfacción. El concepto de utilidad es\n",
            "[06:19.980 --> 06:24.060]  concepto de satisfacción, de felicidad.\n",
            "[06:24.060 --> 06:30.060]  ¿Y la utilidad se referencia a qué? Bueno a la obtención de satisfacción\n",
            "[06:30.060 --> 06:35.900]  que obtiene el individuo. La utilidad es la obtención de satisfacción en\n",
            "[06:35.900 --> 06:41.860]  el consumo de determinado bien o cesta de consumo. La utilidad se referencia a la\n",
            "[06:41.860 --> 06:47.100]  satisfacción que le provoca al individuo consumir un bien o un conjunto\n",
            "[06:47.100 --> 06:52.180]  de bienes. De la utilidad, de esa satisfacción, de esa felicidad que\n",
            "[06:52.180 --> 06:56.860]  provoca el consumo de un bien o conjunto de bienes derivamos en lo que es la\n",
            "[06:56.860 --> 07:01.980]  utilidad total y marginal. Brevemente y después a continuación vamos a ver las\n",
            "[07:01.980 --> 07:07.300]  gráficas. ¿La utilidad total qué es? Es la función de utilidad. La utilidad total\n",
            "[07:07.500 --> 07:12.940]  ¿A qué hace referencia? La satisfacción total generada por una cesta de consumo.\n",
            "[07:12.940 --> 07:16.220]  La utilidad total nos dice la satisfacción, la felicidad que le\n",
            "[07:16.220 --> 07:21.580]  provoca al individuo el consumo de agua, por ejemplo. Mientras que la utilidad\n",
            "[07:21.580 --> 07:27.060]  marginal, marginal como bien dice acá abajo, es adicional suplementaria. La\n",
            "[07:27.060 --> 07:33.540]  utilidad marginal hace referencia a qué? A la satisfacción adicional suplementaria\n",
            "[07:33.540 --> 07:39.900]  de consumir una unidad más de determinado bien. Por ejemplo, de consumir\n",
            "[07:39.900 --> 07:47.140]  un vaso más de agua. La cesta de consumo de un individuo es el conjunto de bienes\n",
            "[07:47.140 --> 07:51.300]  y servicios que consume ese individuo. Nosotros vamos a estar hablando de dos\n",
            "[07:51.300 --> 07:55.980]  bienes o de dos cestas de consumo. La cesta de consumo se referencia al\n",
            "[07:55.980 --> 08:01.940]  conjunto de bienes. Podemos establecer, por ejemplo, en las ordenadas y en las\n",
            "[08:01.940 --> 08:08.660]  abscisas, carnes y vegetales o cesta de consumo. Carnes, vegetales, frutas y del\n",
            "[08:08.660 --> 08:13.260]  otro lado vestimenta. ¿Qué prefiere el individuo? Alimentarse mejor o vestirse\n",
            "[08:13.260 --> 08:19.300]  mejor. Cesta de consumo. La función de utilidad que es, bueno dijimos, es la\n",
            "[08:19.300 --> 08:23.660]  utilidad total. Entonces la función de utilidad de un individuo proporciona la\n",
            "[08:23.660 --> 08:28.580]  utilidad total, la satisfacción total generada por una cesta de consumo. Es la\n",
            "[08:28.580 --> 08:32.940]  satisfacción total que le provoca al individuo el consumo de un bien o un\n",
            "[08:32.940 --> 08:36.860]  conjunto de bienes. Y bueno, marginal, como ya lo vimos, es adicional,\n",
            "[08:36.860 --> 08:41.580]  suplementaria, que son todos estos son conceptos que fueron introducidos por los\n",
            "[08:41.580 --> 08:45.700]  neoclásicos o marginalistas.\n",
            "[08:48.420 --> 08:54.940]  Gráficas de utilidad total y marginal. La utilidad total dijimos que es lo mismo\n",
            "[08:54.940 --> 08:59.020]  que la función de utilidad. En este caso vamos a hacer un ejemplo de Krugman, la\n",
            "[08:59.020 --> 09:04.500]  utilidad total o la función de utilidad de Kelsey. Utilidad total que es\n",
            "[09:04.500 --> 09:11.020]  la satisfacción adicional generada por una cesta de consumo.\n",
            "[09:11.020 --> 09:17.500]  Es la satisfacción total que me provoca el placer, que me provoca el\n",
            "[09:17.500 --> 09:23.100]  consumo de un bien o de una cesta de consumo. En este ejemplo, ¿nosotros qué\n",
            "[09:23.100 --> 09:28.300]  tenemos? Bueno, tenemos en las ordenadas, en el eje de las ordenadas, tenemos la\n",
            "[09:28.300 --> 09:33.020]  satisfacción medida en núcleos y en las abscisas tenemos el número de\n",
            "[09:33.020 --> 09:37.940]  croquetas consumidas, que vemos como es la pendiente o curva de utilidad total. Es\n",
            "[09:37.940 --> 09:44.220]  una pendiente positiva que nos muestra una relación directa entre el número de\n",
            "[09:44.220 --> 09:48.620]  croquetas consumidas y la satisfacción. A medida que aumento el número de\n",
            "[09:48.620 --> 09:53.500]  croquetas consumidas, que pasa con mi satisfacción, crece en igual\n",
            "[09:53.500 --> 09:59.020]  proporción hasta que llega un momento que se estabiliza.\n",
            "[10:00.620 --> 10:06.580]  En la gráfica de abajo tenemos la utilidad marginal. De la utilidad total\n",
            "[10:06.580 --> 10:11.740]  deriva la utilidad marginal. ¿Qué es la utilidad marginal? Es la satisfacción\n",
            "[10:11.740 --> 10:18.540]  adicional que me provoca el consumo de una unidad adicional o suplementaria\n",
            "[10:18.540 --> 10:23.620]  del bien en cuestión. En este caso, ¿qué tenemos? Bueno, en las ordenadas\n",
            "[10:23.620 --> 10:28.500]  tenemos la satisfacción medida en útiles y en las abscisas el número de\n",
            "[10:28.500 --> 10:32.740]  croquetas. Igual que en la gráfica de arriba. ¿Cuál es la diferencia? La curva.\n",
            "[10:32.740 --> 10:38.100]  La curva de la utilidad marginal es una curva negativa. Nos muestra la relación\n",
            "[10:38.100 --> 10:44.420]  inversa que hay entre la cantidad de croquetas adicionales consumidas y la\n",
            "[10:44.420 --> 10:50.260]  satisfacción que esto nos provoca. A medida que yo aumento el consumo de\n",
            "[10:50.260 --> 10:53.900]  paso de consumir una croqueta a consumir dos, ¿qué pasa con la satisfacción?\n",
            "[10:53.900 --> 11:01.260]  Diminuye. Si yo consumo una croqueta, voy a tener 14 útiles de satisfacción, pero\n",
            "[11:01.260 --> 11:06.340]  si yo como la segunda croqueta, mi satisfacción va a ser de 12, como la\n",
            "[11:06.340 --> 11:11.960]  tercera va a ser de 10 y así sucesivamente. A medida que consumo una\n",
            "[11:12.040 --> 11:17.800]  unidad adicional de el bien en cuestión, mi satisfacción va a comenzar a\n",
            "[11:17.800 --> 11:26.960]  disminuir. Acá es en principio sentido común, o sea, a medida que yo consumo\n",
            "[11:26.960 --> 11:32.000]  mis necesidades, por ejemplo, si yo tengo hambre y como un plato de comida, voy a\n",
            "[11:32.000 --> 11:35.520]  estar satisfecha, me puedo quedar con un poquito de hambre, como un segundo plato,\n",
            "[11:35.520 --> 11:40.560]  una segunda croqueta y ya mi satisfacción va a disminuir porque\n",
            "[11:40.840 --> 11:48.600]  poco a poco voy saciando mi sed, mi hambre y por lo tanto\n",
            "[11:48.760 --> 11:52.400]  baja mi satisfacción.\n",
            "[11:55.360 --> 12:01.240]  Vemos aquí entonces nuevamente la curva de utilidad marginal de Casey, el ejemplo\n",
            "[12:01.240 --> 12:06.080]  de Krugman, y en conclusión que nos resume, bueno, esta curva nos resume la\n",
            "[12:06.080 --> 12:11.400]  ley de las utilidades marginales de crecientes, el ley o principio de la\n",
            "[12:11.400 --> 12:16.200]  utilidad marginal de crecientes, que enuncia que esta curva, enuncia que cada\n",
            "[12:16.200 --> 12:19.840]  unidad adicional consumida de un bien o servicio añade menos a la utilidad\n",
            "[12:19.840 --> 12:26.560]  total que la unidad previa, es decir, la segunda unidad nos provoca menos\n",
            "[12:26.560 --> 12:32.360]  satisfacción que la primera unidad, la tercera nos va a provocar menos\n",
            "[12:32.360 --> 12:38.600]  satisfacción que la segunda y así sucesivamente.\n",
            "[12:40.240 --> 12:44.720]  Concepto de ley de utilidades marginales de crecientes que lo podemos\n",
            "[12:44.720 --> 12:49.560]  visualizar en la tabla de Menger, tabla de Menger que es un aporte de los\n",
            "[12:49.560 --> 12:54.840]  neoclásicos o marginalistas que hicimos breve mención a ellos cuando vimos\n",
            "[12:54.840 --> 12:59.760]  escuelas económicas y bueno, primero saber que cada uno de\n",
            "[12:59.760 --> 13:04.080]  nosotros tiene una tabla de Menger. ¿En dónde? ¿Esta tabla de Menger qué\n",
            "[13:04.080 --> 13:08.040]  tenemos? Bueno, en esta\n"
          ]
        }
      ]
    },
    {
      "cell_type": "markdown",
      "source": [],
      "metadata": {
        "id": "c-P7DkYk9FWD"
      }
    },
    {
      "cell_type": "code",
      "source": [],
      "metadata": {
        "id": "g5jwbFMp9GNZ"
      },
      "execution_count": null,
      "outputs": []
    }
  ]
}